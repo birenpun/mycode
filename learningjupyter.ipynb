{
 "cells": [
  {
   "cell_type": "code",
   "execution_count": 5,
   "id": "1642a468-1ee7-4e08-9a45-770c74b2d3aa",
   "metadata": {},
   "outputs": [
    {
     "name": "stdout",
     "output_type": "stream",
     "text": [
      "hello\n"
     ]
    }
   ],
   "source": [
    "print(\"hello\")\n"
   ]
  },
  {
   "cell_type": "markdown",
   "id": "f538143c-fcce-48af-a4f8-980b677aa661",
   "metadata": {},
   "source": [
    "Learning Jupyer Notebook\n"
   ]
  },
  {
   "cell_type": "markdown",
   "id": "140b41f7-24e2-4595-858b-93b4d6288a0f",
   "metadata": {
    "tags": []
   },
   "source": [
    "# Learning Jupyer Notebook\n",
    "- Where to *click*\n",
    "- How to **execute** code"
   ]
  },
  {
   "cell_type": "code",
   "execution_count": 6,
   "id": "de02f545-65bb-4378-9db2-b0261adc22ba",
   "metadata": {},
   "outputs": [
    {
     "data": {
      "text/plain": [
       "5"
      ]
     },
     "execution_count": 6,
     "metadata": {},
     "output_type": "execute_result"
    }
   ],
   "source": [
    "x = 5\n",
    "x\n"
   ]
  },
  {
   "cell_type": "code",
   "execution_count": 7,
   "id": "346defb8-b1f8-44ac-b845-b8dc8d001e76",
   "metadata": {},
   "outputs": [
    {
     "data": {
      "text/plain": [
       "5"
      ]
     },
     "execution_count": 7,
     "metadata": {},
     "output_type": "execute_result"
    }
   ],
   "source": [
    "greeting = \"Hello World!\"\n",
    "greeting\n",
    "greeting  \n",
    "greeting  \n",
    "x         \n"
   ]
  },
  {
   "cell_type": "code",
   "execution_count": 8,
   "id": "86869953-8382-4fa1-872b-fa4f2fd720a1",
   "metadata": {},
   "outputs": [
    {
     "data": {
      "text/plain": [
       "'Hello World!'"
      ]
     },
     "execution_count": 8,
     "metadata": {},
     "output_type": "execute_result"
    }
   ],
   "source": [
    "greeting\n"
   ]
  },
  {
   "cell_type": "code",
   "execution_count": null,
   "id": "359dd91c-4400-470c-9a75-fb8b862348cd",
   "metadata": {},
   "outputs": [],
   "source": []
  }
 ],
 "metadata": {
  "kernelspec": {
   "display_name": "Python 3 (ipykernel)",
   "language": "python",
   "name": "python3"
  },
  "language_info": {
   "codemirror_mode": {
    "name": "ipython",
    "version": 3
   },
   "file_extension": ".py",
   "mimetype": "text/x-python",
   "name": "python",
   "nbconvert_exporter": "python",
   "pygments_lexer": "ipython3",
   "version": "3.10.6"
  },
  "toc-autonumbering": false
 },
 "nbformat": 4,
 "nbformat_minor": 5
}
