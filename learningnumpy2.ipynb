{
 "cells": [
  {
   "cell_type": "code",
   "execution_count": 1,
   "id": "bea9a9d4-eed7-40b1-89a8-d472fa01233d",
   "metadata": {},
   "outputs": [
    {
     "name": "stdout",
     "output_type": "stream",
     "text": [
      "Array A has a shape of: (3,)\n",
      "Array A has dimension: 1\n"
     ]
    }
   ],
   "source": [
    "import numpy as np\n",
    "\n",
    "A = np.array([2.4, 6.7, 7.9])\n",
    "print(\"Array A has a shape of:\", A.shape) # shape returns a tuple of rows, cols \n",
    "print(\"Array A has dimension:\", A.ndim) # ndim returns an integer representing the dimensions\n"
   ]
  },
  {
   "cell_type": "code",
   "execution_count": 2,
   "id": "d3f437b2-524e-427b-8a2b-35d986fc8f7e",
   "metadata": {},
   "outputs": [
    {
     "name": "stdout",
     "output_type": "stream",
     "text": [
      "Array A has a shape of: (1, 3)\n",
      "Array A has dimension: 2\n"
     ]
    }
   ],
   "source": [
    "import numpy as np\n",
    "\n",
    "A = np.array([[2.4, 6.7, 7.9]])\n",
    "print(\"Array A has a shape of:\", A.shape) # shape returns a tuple of rows, cols \n",
    "print(\"Array A has dimension:\", A.ndim) # ndim returns an integer representing the dimensions\n"
   ]
  },
  {
   "cell_type": "code",
   "execution_count": 3,
   "id": "32c8d114-b038-4d85-b260-46ae3d6456c1",
   "metadata": {},
   "outputs": [
    {
     "data": {
      "text/plain": [
       "1.1"
      ]
     },
     "execution_count": 3,
     "metadata": {},
     "output_type": "execute_result"
    }
   ],
   "source": [
    "A = np.array([ [2.4, 6.7, 7.9], # double brackets, so this is row 0\n",
    "             [1.1, -7.8, -0.7], # row 1\n",
    "             [4.1, 12.3, 4.8]]) # row 2\n",
    "A[1,0] # index A at row 1, col 0 (can also index using chained indexing: A[1][0]) \n"
   ]
  },
  {
   "cell_type": "code",
   "execution_count": 4,
   "id": "61dbadcc-2531-403a-be4a-1b8fe17c592c",
   "metadata": {},
   "outputs": [
    {
     "data": {
      "text/plain": [
       "array([2.4, 6.7, 7.9])"
      ]
     },
     "execution_count": 4,
     "metadata": {},
     "output_type": "execute_result"
    }
   ],
   "source": [
    "A[0,:] # grab all of row 0\n"
   ]
  },
  {
   "cell_type": "code",
   "execution_count": 5,
   "id": "dc0f66e6-a4d8-4571-bfcd-c7a41729c835",
   "metadata": {},
   "outputs": [
    {
     "data": {
      "text/plain": [
       "array([[13, 14, 15],\n",
       "       [23, 24, 25],\n",
       "       [33, 34, 35]])"
      ]
     },
     "execution_count": 5,
     "metadata": {},
     "output_type": "execute_result"
    }
   ],
   "source": [
    "A = np.array([\n",
    "[11, 12, 13, 14, 15], # row 0\n",
    "[21, 22, 23, 24, 25], # row 1\n",
    "[31, 32, 33, 34, 35], # row 2\n",
    "[41, 42, 43, 44, 45], # row 3\n",
    "[51, 52, 53, 54, 55]]) # row 4\n",
    "\n",
    "A[:3, 2:] # first argument :3 slices rows 0-2, second argument 2: slices cols 2-end of array\n"
   ]
  },
  {
   "cell_type": "code",
   "execution_count": 6,
   "id": "65600873-3910-41d1-aaa4-09c94c3425cc",
   "metadata": {},
   "outputs": [
    {
     "data": {
      "text/plain": [
       "array([[41, 42, 43, 44, 45],\n",
       "       [51, 52, 53, 54, 55]])"
      ]
     },
     "execution_count": 6,
     "metadata": {},
     "output_type": "execute_result"
    }
   ],
   "source": [
    "A[3:, :]\n"
   ]
  },
  {
   "cell_type": "code",
   "execution_count": 7,
   "id": "90e30c64-9850-4d21-a5d6-7e6d835e3d51",
   "metadata": {},
   "outputs": [
    {
     "data": {
      "text/plain": [
       "array([[15],\n",
       "       [25],\n",
       "       [35],\n",
       "       [45],\n",
       "       [55]])"
      ]
     },
     "execution_count": 7,
     "metadata": {},
     "output_type": "execute_result"
    }
   ],
   "source": [
    "A[:, 4:]\n"
   ]
  },
  {
   "cell_type": "code",
   "execution_count": 8,
   "id": "a28410db-9d85-40ee-a291-5967f0f2afeb",
   "metadata": {},
   "outputs": [
    {
     "data": {
      "text/plain": [
       "array([[11, 14],\n",
       "       [31, 34],\n",
       "       [51, 54]])"
      ]
     },
     "execution_count": 8,
     "metadata": {},
     "output_type": "execute_result"
    }
   ],
   "source": [
    "A[::2, ::3] # ::2 starts at row 0 through the end of the array, skipping over every other row, and ::3 starts at col 0 through the end of the array, grabbing every third entry\n"
   ]
  },
  {
   "cell_type": "code",
   "execution_count": 9,
   "id": "a4149a53-e704-4da9-8a3b-b285cb68bb07",
   "metadata": {},
   "outputs": [
    {
     "data": {
      "text/plain": [
       "array([ 0,  1,  2,  3,  4,  5,  6,  7,  8,  9, 10, 11, 12, 13, 14, 15, 16,\n",
       "       17, 18, 19, 20, 21, 22, 23, 24, 25, 26, 27])"
      ]
     },
     "execution_count": 9,
     "metadata": {},
     "output_type": "execute_result"
    }
   ],
   "source": [
    "X=np.arange(28)\n",
    "X\n"
   ]
  },
  {
   "cell_type": "code",
   "execution_count": null,
   "id": "9eb7d10a-7393-4ae7-b8e9-1941b67e6e61",
   "metadata": {},
   "outputs": [],
   "source": []
  }
 ],
 "metadata": {
  "kernelspec": {
   "display_name": "Python 3 (ipykernel)",
   "language": "python",
   "name": "python3"
  },
  "language_info": {
   "codemirror_mode": {
    "name": "ipython",
    "version": 3
   },
   "file_extension": ".py",
   "mimetype": "text/x-python",
   "name": "python",
   "nbconvert_exporter": "python",
   "pygments_lexer": "ipython3",
   "version": "3.10.6"
  }
 },
 "nbformat": 4,
 "nbformat_minor": 5
}
